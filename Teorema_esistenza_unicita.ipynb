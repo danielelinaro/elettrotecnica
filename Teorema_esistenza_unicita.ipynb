{
 "cells": [
  {
   "cell_type": "markdown",
   "metadata": {},
   "source": [
    "# Teorema di esistenza e unicità della soluzione"
   ]
  },
  {
   "cell_type": "markdown",
   "metadata": {},
   "source": [
    "Dato un circuito composto da $l$ lati e $n$ nodi, abbiamo visto che, unendo le equazioni di Tableau alle equazioni costitutive dei componenti, è possibile scrivere il seguente sistema di $2l+n-1$ equazioni in $2l+n-1$ incognite:\n",
    "\n",
    "$$\n",
    "\\begin{equation}\n",
    "\\left\\{\n",
    "\\begin{array}{rcl}\n",
    "A\\ \\boldsymbol{i}(t) & = & \\boldsymbol{0} \\\\\n",
    "\\boldsymbol{v}(t) - A^T\\ \\boldsymbol{u}(t) & = & \\boldsymbol{0} \\\\\n",
    "M(t)\\ \\boldsymbol{v}(t) + N(t)\\ \\boldsymbol{i}(t) & = & \\boldsymbol{z}(t)\n",
    "\\end{array}\n",
    "\\right.\n",
    "\\end{equation}\n",
    "$$"
   ]
  },
  {
   "cell_type": "markdown",
   "metadata": {},
   "source": [
    "Raggruppando le incognite nel vettore $\\boldsymbol w = [\\boldsymbol u^T, \\boldsymbol v^T, \\boldsymbol i^T]^T$, possiamo scrivere il sistema in forma matriciale nel seguente modo:\n",
    "\n",
    "$$\n",
    "\\begin{equation}\n",
    "\\underbrace{\\left[\n",
    "\\begin{array}{c c c}\n",
    "\\mathbb{0}_{(n-1) \\times (n-1)} & \\mathbb{0}_{(n-1) \\times l} & A\\\\\n",
    "-A^T & \\mathbb{1}_{l} & \\mathbb{0}_{l \\times l}\\\\\n",
    "\\mathbb{0}_{l \\times (n-1)} & M(t) & N(t)\n",
    "\\end{array}\n",
    "\\right]}_{T(t)}\n",
    "\\underbrace{\\left[\n",
    "\\begin{array}{c}\n",
    "\\boldsymbol u(t)\\\\\n",
    "\\boldsymbol v(t)\\\\\n",
    "\\boldsymbol i(t)\n",
    "\\end{array}\n",
    "\\right]}_{\\boldsymbol w(t)}\n",
    "=\n",
    "\\underbrace{\\left[\n",
    "\\begin{array}{c}\n",
    "\\mathbb{0}_{(n-1) \\times 1}\\\\\n",
    "\\mathbb{0}_{l \\times 1}\\\\\n",
    "{\\bf z}(t)\n",
    "\\end{array}\n",
    "\\right]}_{\\boldsymbol y(t)}\n",
    "\\end{equation}\n",
    "$$"
   ]
  },
  {
   "cell_type": "markdown",
   "metadata": {},
   "source": [
    "Il teorema di esistenza e unicità afferma quindi che un circuito ha una ed una sola soluzione se $\\mathrm{det}(T(t)) \\neq 0$. "
   ]
  },
  {
   "cell_type": "markdown",
   "metadata": {},
   "source": [
    "Consideriamo ora il seguente circuito e determiniamo il valore di tutte le grandezze elettriche, ossia potenziali di nodo, tensioni e correnti di lato.\n",
    "\n",
    "<img src=\"figs/esistenza_unicita/ckt_1.png\" width=\"400\"/>"
   ]
  },
  {
   "cell_type": "markdown",
   "metadata": {},
   "source": [
    "I vettori delle incognite sono dati da:\n",
    "\n",
    "$$\n",
    "\\begin{eqnarray}\n",
    "\\boldsymbol u & = & \\left[ u_1, u_2 \\right]^T \\\\\n",
    "\\boldsymbol v & = & \\left[ v_a, v_{R_1}, v_{R_2}, v_{cc} \\right]^T \\\\\n",
    "\\boldsymbol i & = & \\left[ i_a, i_{R_1}, i_{R_2}, i_{cc} \\right]^T\n",
    "\\end{eqnarray}\n",
    "$$"
   ]
  },
  {
   "cell_type": "markdown",
   "metadata": {},
   "source": [
    "Disegniamo il grafo del circuito orientando i lati come le correnti contenute nel vettore $\\boldsymbol i$:\n",
    "\n",
    "<img src=\"figs/esistenza_unicita/graph.png\" width=\"200\"/>"
   ]
  },
  {
   "cell_type": "markdown",
   "metadata": {},
   "source": [
    "La matrice di incidenza ridotta è data da\n",
    "\n",
    "$$\n",
    "\\begin{equation}\n",
    "A = \n",
    "\\left[\n",
    "\\begin{array}{cccc}\n",
    "0 & -1 & 1 & 1 \\\\\n",
    "1 & 1 & 0 & 0\n",
    "\\end{array}\n",
    "\\right]\n",
    "\\end{equation}\n",
    "$$\n",
    "\n",
    "Le matrici $M$ e $N$ e il vettore $\\boldsymbol z$ sono dati da\n",
    "\n",
    "$$\n",
    "\\begin{equation}\n",
    "M = \\left[\n",
    "\\begin{array}{cccc}\n",
    "0 & 0 & 0 & 0 \\\\\n",
    "0 & 1 & 0 & 0 \\\\\n",
    "0 & 0 & 1 & 0 \\\\\n",
    "0 & 0 & 0 & 1 \\\\\n",
    "\\end{array}\n",
    "\\right]\n",
    "\\end{equation}\n",
    "$$\n",
    "\n",
    "$$\n",
    "\\begin{equation}\n",
    "N = \\left[\n",
    "\\begin{array}{cccc}\n",
    "1 & 0 & 0 & 0 \\\\\n",
    "0 & -R_1 & 0 & 0 \\\\\n",
    "0 & 0 & -R_2 & 0 \\\\\n",
    "0 & 0 & 0 & 0 \\\\\n",
    "\\end{array}\n",
    "\\right]\n",
    "\\end{equation}\n",
    "$$\n",
    "\n",
    "$$\n",
    "\\begin{equation}\n",
    "\\boldsymbol z = \\left[\n",
    "\\begin{array}{c}\n",
    "-I \\\\\n",
    "0 \\\\\n",
    "0 \\\\\n",
    "0\n",
    "\\end{array}\n",
    "\\right]\n",
    "\\end{equation}\n",
    "$$\n"
   ]
  },
  {
   "cell_type": "markdown",
   "metadata": {},
   "source": [
    "Come prima cosa, definisco una funzione che, date le matrici $A$, $M$ e $N$ e il vettore $\\boldsymbol z$, restituisce la matrice $T$ e il vettore $\\boldsymbol y$."
   ]
  },
  {
   "cell_type": "code",
   "execution_count": null,
   "metadata": {},
   "outputs": [],
   "source": [
    "import numpy as np\n",
    "\n",
    "def make_T_y(A, M, N, z):\n",
    "    n = A.shape[0] + 1\n",
    "    l = A.shape[1]\n",
    "    rows = 2 * l + n - 1\n",
    "    cols = 2 * l + n - 1\n",
    "    T = np.zeros((rows,cols))\n",
    "    T[ :n-1 , -l: ] = A\n",
    "    T[ n-1:n-1+l , :n-1 ] = -A.T\n",
    "    T[ n-1:n-1+l , n-1:n-1+l ] = np.eye(l)\n",
    "    T[ -l:, n-1:n-1+l ] = M\n",
    "    T[ -l:, -l: ] = N\n",
    "    y = np.zeros(rows)\n",
    "    y[-l:] = z\n",
    "    return T,y"
   ]
  },
  {
   "cell_type": "markdown",
   "metadata": {},
   "source": [
    "Definisco i valori delle costanti e le matrici $A$, $M$, $N$ e il vettore $\\boldsymbol z$."
   ]
  },
  {
   "cell_type": "code",
   "execution_count": null,
   "metadata": {},
   "outputs": [],
   "source": [
    "R1 = 1   # [Ohm]\n",
    "R2 = 2   # [Ohm]\n",
    "I  = 1   # [A]\n",
    "\n",
    "A = np.array([\n",
    "         [0, -1, 1, 1],\n",
    "         [1,  1, 0, 0]])\n",
    "\n",
    "M = np.array([\n",
    "         [0, 0, 0, 0],\n",
    "         [0, 1, 0, 0],\n",
    "         [0, 0, 1, 0],\n",
    "         [0, 0, 0, 1]])\n",
    "\n",
    "N = np.array([\n",
    "         [1,   0,   0, 0],\n",
    "         [0, -R1,   0, 0],\n",
    "         [0,   0, -R2, 0],\n",
    "         [0,   0,   0, 0]])\n",
    "\n",
    "z = np.array([-I,0,0,0])"
   ]
  },
  {
   "cell_type": "markdown",
   "metadata": {},
   "source": [
    "Costruisco la matrice $T$ e il vettore $\\boldsymbol y$ e verifico che $\\mathrm{det}(T(t)) \\neq 0$."
   ]
  },
  {
   "cell_type": "code",
   "execution_count": null,
   "metadata": {},
   "outputs": [],
   "source": [
    "T,y = make_T_y(A, M, N, z)\n",
    "d = np.linalg.det(T)\n",
    "print('det(T) = {}'.format(d))"
   ]
  },
  {
   "cell_type": "markdown",
   "metadata": {},
   "source": [
    "Calcolo la soluzione del circuito risolvendo il sistema lineare:\n",
    "    \n",
    "$$\n",
    "\\boldsymbol w = T^{-1} \\boldsymbol y\n",
    "$$"
   ]
  },
  {
   "cell_type": "code",
   "execution_count": null,
   "metadata": {},
   "outputs": [],
   "source": [
    "w = np.linalg.solve(T,y)"
   ]
  },
  {
   "cell_type": "markdown",
   "metadata": {},
   "source": [
    "Stampo i valori delle variabili:"
   ]
  },
  {
   "cell_type": "code",
   "execution_count": null,
   "metadata": {},
   "outputs": [],
   "source": [
    "var_names = ['u_1', 'u_2', 'v_a', 'v_R1', 'v_R2', 'v_cc', 'i_a', 'i_R1', 'i_R2', 'i_cc']\n",
    "units = ['V', 'V', 'V', 'V', 'V', 'V', 'A', 'A', 'A', 'A']\n",
    "for v,x,u in zip(var_names, w, units):\n",
    "    print('{:4s} = {:5.2f} {}.'.format(v, x, u))"
   ]
  },
  {
   "cell_type": "markdown",
   "metadata": {},
   "source": [
    "Vediamo ora se il circuito riportato sotto ammette soluzione:"
   ]
  },
  {
   "cell_type": "markdown",
   "metadata": {},
   "source": [
    "<img src=\"figs/esistenza_unicita/ckt_2.png\" width=\"400\"/>"
   ]
  },
  {
   "cell_type": "markdown",
   "metadata": {},
   "source": [
    "Le matrici $A$ e $M$ rimangono invariate, così come il vettore $\\boldsymbol z$, mentre la matrice $N$ diventa:\n",
    "    \n",
    "$$\n",
    "\\begin{equation}\n",
    "N = \\left[\n",
    "\\begin{array}{cccc}\n",
    "1 & 0 & 0 & 0 \\\\\n",
    "0 & -R_1 & 0 & 0 \\\\\n",
    "0 & 0 & 0 & 0 \\\\\n",
    "0 & 0 & 0 & 0 \\\\\n",
    "\\end{array}\n",
    "\\right]\n",
    "\\end{equation}\n",
    "$$"
   ]
  },
  {
   "cell_type": "code",
   "execution_count": null,
   "metadata": {},
   "outputs": [],
   "source": [
    "N_2 = np.array([[1,0,0,0],[0,-R1,0,0],[0,0,0,0],[0,0,0,0]])"
   ]
  },
  {
   "cell_type": "markdown",
   "metadata": {},
   "source": [
    "Costruisco una nuova coppia $T$, $\\boldsymbol y$ e verifico poi se $\\mathrm{det}(T(t)) \\neq 0$:"
   ]
  },
  {
   "cell_type": "code",
   "execution_count": null,
   "metadata": {},
   "outputs": [],
   "source": [
    "T_2,y_2 = make_T_y(A, M, N_2, z)\n",
    "d_2 = np.linalg.det(T_2)\n",
    "print('det(T) = {}'.format(d_2))"
   ]
  },
  {
   "cell_type": "markdown",
   "metadata": {},
   "source": [
    "La matrice non è invertibile e di conseguenza non è possibile calcolare il vettore $\\boldsymbol y$ delle soluzioni.\n",
    "\n",
    "Verifichiamo con il teorema di Rouché-Capelli che effettivamente il risultato sia corretto:"
   ]
  },
  {
   "cell_type": "code",
   "execution_count": null,
   "metadata": {},
   "outputs": [],
   "source": [
    "def rouche_capelli(A, b):\n",
    "    n_unknowns = A.shape[1]\n",
    "    Ab = np.concatenate((A, b[:,np.newaxis]), axis=1)\n",
    "    rnk_A  = np.linalg.matrix_rank(A)\n",
    "    rnk_Ab = np.linalg.matrix_rank(Ab)\n",
    "    if rnk_A < rnk_Ab:\n",
    "        print('rank(A) (= {}) < rank(A|b) (= {}): il sistema non ammette soluzioni.'.\\\n",
    "              format(rnk_A, rnk_Ab))\n",
    "    else:\n",
    "        if rnk_A == n_unknowns:\n",
    "            print('rank(A) = rank(A|b) = n = {}: il sistema ammette una sola soluzione.'.\\\n",
    "                  format(rnk_A))\n",
    "        elif rnk_A < n_unknowns:\n",
    "            print('{} = rank(A) = rank(A|b) < n = {}: il sistema ammette inf^({}) soluzioni.'.\\\n",
    "                  format(rnk_A, n_unknowns, n_unknowns-rnk_A))\n",
    "    return rnk_A,rnk_Ab"
   ]
  },
  {
   "cell_type": "code",
   "execution_count": null,
   "metadata": {},
   "outputs": [],
   "source": [
    "rouche_capelli(T_2, y_2);"
   ]
  },
  {
   "cell_type": "code",
   "execution_count": null,
   "metadata": {},
   "outputs": [],
   "source": [
    "rouche_capelli(T, y);"
   ]
  }
 ],
 "metadata": {
  "kernelspec": {
   "display_name": "Python 3 (ipykernel)",
   "language": "python",
   "name": "python3"
  },
  "language_info": {
   "codemirror_mode": {
    "name": "ipython",
    "version": 3
   },
   "file_extension": ".py",
   "mimetype": "text/x-python",
   "name": "python",
   "nbconvert_exporter": "python",
   "pygments_lexer": "ipython3",
   "version": "3.10.8"
  }
 },
 "nbformat": 4,
 "nbformat_minor": 2
}

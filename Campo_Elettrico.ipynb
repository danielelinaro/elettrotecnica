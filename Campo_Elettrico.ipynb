{
 "cells": [
  {
   "cell_type": "markdown",
   "metadata": {},
   "source": [
    "# Visualizzazione delle linee di forza generate dal campo elettrico"
   ]
  },
  {
   "cell_type": "markdown",
   "metadata": {},
   "source": [
    "Abbiamo visto che il campo elettrico è definito operativamente come la forza esercitata su una carica puntiforme e positiva $q$, normalizzata rispetto al valore stesso della carica.\n",
    "\n",
    "Utilizzando la legge di Coulomb, possiamo quindi esprimere il campo elettrico generato da una carica puntiforme $Q$ e \"percepito\" da $q$ come\n",
    "\n",
    "$$\n",
    "\\bar{E} = \\frac{\\bar{F}}{q} = \\frac{1}{4\\pi\\epsilon_0} \\frac{Q}{r^2} \\hat{r}\n",
    "$$\n",
    "\n",
    "Abbiamo anche visto che il campo elettrico dovuto a un insieme di cariche è dato dalla sovrapposizione degli effetti dovuti alle singole cariche, ossia\n",
    "\n",
    "$$\n",
    "\\bar{E} = \\sum_{k=1}^N \\bar{E}_k = \\frac{1}{4\\pi\\epsilon_0} \\sum_{k=1}^N \\frac{Q_k}{r_k^2} \\hat{r}_k\n",
    "$$\n",
    "\n",
    "Vediamo quindi alcuni esempi di campi elettrici generati da diverse configurazioni di cariche puntiformi."
   ]
  },
  {
   "cell_type": "code",
   "execution_count": null,
   "metadata": {},
   "outputs": [],
   "source": [
    "import numpy as np\n",
    "import matplotlib.pyplot as plt\n",
    "from scipy.integrate import solve_ivp\n",
    "%matplotlib inline"
   ]
  },
  {
   "cell_type": "markdown",
   "metadata": {},
   "source": [
    "Definisco i valori della carica dell'elettrone e della costante dielettrica del vuoto"
   ]
  },
  {
   "cell_type": "code",
   "execution_count": null,
   "metadata": {},
   "outputs": [],
   "source": [
    "q0 = -1.602564e-19   # [C]\n",
    "epsilon0 = 8.854e-12 # [N^-1 m^-2 C2]"
   ]
  },
  {
   "cell_type": "markdown",
   "metadata": {},
   "source": [
    "Definisco una funzione che calcola il campo elettrico nel punto $y$ dovuto alla presenza nel punto $x$ di una carica puntiforme $Q$"
   ]
  },
  {
   "cell_type": "code",
   "execution_count": null,
   "metadata": {},
   "outputs": [],
   "source": [
    "def E_field(y, x=np.zeros(2), Q=q0, epsilon=epsilon0):\n",
    "    r = y - x\n",
    "    nrm = np.linalg.norm(r)\n",
    "    if nrm < 1e-12:\n",
    "        return np.array([np.nan,np.nan])\n",
    "    E = Q * r / (4 * np.pi * epsilon * nrm**3)\n",
    "    return E"
   ]
  },
  {
   "cell_type": "markdown",
   "metadata": {},
   "source": [
    "Definisco una funzione che calcola il campo elettrico generato da più cariche puntiformi su una griglia di punti"
   ]
  },
  {
   "cell_type": "code",
   "execution_count": null,
   "metadata": {},
   "outputs": [],
   "source": [
    "def compute_E_field_on_a_grid(charges, charge_positions, limits, n_points):\n",
    "    x = np.linspace(limits[0,0], limits[0,1], n_points[0])\n",
    "    y = np.linspace(limits[1,0], limits[1,1], n_points[1])\n",
    "    X,Y = np.meshgrid(x, y)\n",
    "    U = np.zeros((n_points[1],n_points[0]))\n",
    "    V = np.zeros((n_points[1],n_points[0]))\n",
    "    for pos,charge in zip(charge_positions, charges):\n",
    "        for i in range(n_points[1]):\n",
    "            for j in range(n_points[0]):\n",
    "                pt = np.array([X[i,j],Y[i,j]])\n",
    "                tmp_U,tmp_V = E_field(pt, pos, charge)\n",
    "                U[i,j] += tmp_U\n",
    "                V[i,j] += tmp_V\n",
    "    return X,Y,U,V"
   ]
  },
  {
   "cell_type": "markdown",
   "metadata": {},
   "source": [
    "Definisco una funzione che visualizza le cariche e le linee del campo elettrico"
   ]
  },
  {
   "cell_type": "code",
   "execution_count": null,
   "metadata": {},
   "outputs": [],
   "source": [
    "def plot_E_field(X, Y, U, V, limits=None, charges=None, charge_positions=None, ax=None, density=1):\n",
    "    color = 2 * np.log(np.hypot(U, V))\n",
    "    if ax is None:\n",
    "        _,ax = plt.subplots(1,1,figsize=(8,8))\n",
    "    ax.streamplot(X, Y, U, V, color=color, linewidth=1, cmap=plt.cm.inferno, \\\n",
    "                  density=density, arrowstyle='->', arrowsize=1)\n",
    "    if charges is not None and charge_positions is not None:\n",
    "        for pos,charge in zip(charge_positions,charges):\n",
    "            if charge > 0:\n",
    "                col = 'r'\n",
    "            else:\n",
    "                col = 'b'\n",
    "            ax.plot(pos[0], pos[1], col+'o', markersize=5*np.abs(charge)/np.abs(q0))\n",
    "    if limits is not None:\n",
    "        ax.set_xlim(limits[0])\n",
    "        ax.set_ylim(limits[1])\n",
    "    ax.set_xlabel('X')\n",
    "    ax.set_ylabel('Y')"
   ]
  },
  {
   "cell_type": "markdown",
   "metadata": {},
   "source": [
    "### Campi generati da due cariche (una positiva e una negativa) isolate nello spazio"
   ]
  },
  {
   "cell_type": "code",
   "execution_count": null,
   "metadata": {},
   "outputs": [],
   "source": [
    "charge = np.array([-q0])\n",
    "charge_position = np.array([[0,0]])\n",
    "limits = np.array([[-2,2],[-2,2]])\n",
    "n_points = np.array([100,100])\n",
    "\n",
    "fig,(ax1,ax2) = plt.subplots(1, 2, figsize=(8,4))\n",
    "\n",
    "X,Y,U,V = compute_E_field_on_a_grid(charge, charge_position, limits, n_points)\n",
    "plot_E_field(X, Y, U, V, limits, charge, charge_position, ax1)\n",
    "\n",
    "charge[0] = q0\n",
    "X,Y,U,V = compute_E_field_on_a_grid(charge, charge_position, limits, n_points)\n",
    "plot_E_field(X, Y, U, V, limits, charge, charge_position, ax2)\n",
    "\n",
    "fig.tight_layout()"
   ]
  },
  {
   "cell_type": "markdown",
   "metadata": {},
   "source": [
    "### Campo generato da un dipolo elettrico"
   ]
  },
  {
   "cell_type": "code",
   "execution_count": null,
   "metadata": {},
   "outputs": [],
   "source": [
    "charges = np.array([-q0, 3*q0])\n",
    "charge_positions = np.array([[-1,0],[1,0]])\n",
    "limits = np.array([[-3,3],[-2,2]])\n",
    "n_points = np.array([100,100])\n",
    "X,Y,U,V = compute_E_field_on_a_grid(charges, charge_positions, limits, n_points)\n",
    "fig,ax = plt.subplots(1, 1, figsize=(6,4))\n",
    "plot_E_field(X, Y, U, V, limits, charges, charge_positions, ax)\n",
    "fig.tight_layout()"
   ]
  },
  {
   "cell_type": "markdown",
   "metadata": {},
   "source": [
    "### Campo generato da $N = 2^m$ cariche uniformemente disposte su una circonferenza e aventi segni alternati"
   ]
  },
  {
   "cell_type": "code",
   "execution_count": null,
   "metadata": {},
   "outputs": [],
   "source": [
    "m = 3\n",
    "n_charges = 2**m\n",
    "charges = q0 * np.ones(n_charges)\n",
    "charges[::2] *= -1\n",
    "theta = np.linspace(0, 2*np.pi, n_charges+1)[:-1]\n",
    "charge_positions = np.array([np.cos(theta), np.sin(theta)]).T\n",
    "limits = np.array([[-2,2],[-2,2]])\n",
    "n_points = np.array([100,100])\n",
    "X,Y,U,V = compute_E_field_on_a_grid(charges, charge_positions, limits, n_points)\n",
    "fig,ax = plt.subplots(1, 1, figsize=(4,4))\n",
    "plot_E_field(X, Y, U, V, limits, charges, charge_positions, ax=ax)\n",
    "fig.tight_layout()"
   ]
  },
  {
   "cell_type": "markdown",
   "metadata": {},
   "source": [
    "### Campo generato da $N$ cariche disposte in modo casuale in una regione limitata di spazio"
   ]
  },
  {
   "cell_type": "code",
   "execution_count": null,
   "metadata": {},
   "outputs": [],
   "source": [
    "n_charges = 10\n",
    "charges = q0 * np.random.randint(1, 3, size=n_charges)\n",
    "idx = np.random.choice(range(n_charges), size=n_charges//2, replace=False)\n",
    "charges[idx] *= -1\n",
    "charge_positions = -10 + 20*np.random.uniform(size=(n_charges,2))\n",
    "limits = np.array([[-2,2],[-2,2]]) * 10\n",
    "n_points = np.array([100,100])\n",
    "X,Y,U,V = compute_E_field_on_a_grid(charges, charge_positions, limits, n_points)\n",
    "fig,ax = plt.subplots(1, 1, figsize=(4,4))\n",
    "plot_E_field(X, Y, U, V, limits, charges, charge_positions, ax=ax)\n",
    "fig.tight_layout()"
   ]
  }
 ],
 "metadata": {
  "kernelspec": {
   "display_name": "Python 3 (ipykernel)",
   "language": "python",
   "name": "python3"
  },
  "language_info": {
   "codemirror_mode": {
    "name": "ipython",
    "version": 3
   },
   "file_extension": ".py",
   "mimetype": "text/x-python",
   "name": "python",
   "nbconvert_exporter": "python",
   "pygments_lexer": "ipython3",
   "version": "3.10.8"
  }
 },
 "nbformat": 4,
 "nbformat_minor": 2
}

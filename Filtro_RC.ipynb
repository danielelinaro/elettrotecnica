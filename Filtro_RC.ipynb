{
 "cells": [
  {
   "cell_type": "markdown",
   "metadata": {},
   "source": [
    "# Un semplice filtro RC passa-basso"
   ]
  },
  {
   "cell_type": "markdown",
   "metadata": {},
   "source": [
    "<img src=\"figs/filtro_rc/RC_filter.png\" width=\"400\"/>\n",
    "\n",
    "Il circuito in alto è descritto dall'equazione di stato\n",
    "\n",
    "$$\n",
    "\\frac{\\mathrm{d}v_{out}}{\\mathrm{dt}} = - \\frac{v_{out}}{RC} + \\frac{v_{in}(t)}{RC} ,\n",
    "$$\n",
    "\n",
    "la cui soluzione può essere scritta come\n",
    "\n",
    "$$\n",
    "v_{out}(t) = K e^{-\\frac{t}{RC}} + v_{out}^{ip}(t) ,\n",
    "$$\n",
    "\n",
    "dove K è una costante che dipende dalla condizione iniziale e $v_{out}^{ip}(t)$ è l'integrale particolare, che in generale sarà funzione dell'ingresso $v_{in}(t)$.\n",
    "\n",
    "Consideriamo quindi un ingresso sinusoidale del tipo $v_{in}(t) = E \\cos(\\omega t + \\phi)$: passando al dominio dei fasori abbiamo visto che possiamo scrivere $v_{out}^{ip}(t)$ come\n",
    "\n",
    "$$\n",
    "v_{out}^{ip}(t) = \\frac{E}{\\sqrt{1+\\omega^2 R^2 C^2}}\\ \\cos\\left(\\omega t + \\phi + \\theta\\right) ,\n",
    "$$\n",
    "\n",
    "dove $\\theta = \\arctan(-\\omega R C)$ è lo sfasamento introdotto dalla presenza del condensatore.\n",
    "\n",
    "La soluzione complessiva è quindi data da:\n",
    "\n",
    "$$\n",
    "v_{out}(t) = \\underbrace{\\left(v_{out}(0) - \\frac{E \\cos(\\phi + \\theta)}{\\sqrt{1+\\omega^2 R^2 C^2}}\\right)\\  e^{-\\frac{t}{RC}}}_{v_{out}^{rl}(t)} + \\underbrace{\\frac{E}{\\sqrt{1+\\omega^2 R^2 C^2}}\\ \\cos\\left(\\omega t + \\phi + \\theta\\right)}_{v_{out}^{ip}(t)} .\n",
    "$$\n",
    "\n",
    "Il termine di risposta libera si smorza con una costante di tempo $\\tau = RC$, mentre la risposta forzata sarà tanto più attenuata quanto è elevata la pulsazione $\\omega$ del segnale di ingresso.\n",
    "\n",
    "In questo notebook vedremo come analizzare numericamente il filtro passa-basso mostrato nella figura in alto."
   ]
  },
  {
   "cell_type": "code",
   "execution_count": null,
   "metadata": {},
   "outputs": [],
   "source": [
    "from __future__ import print_function\n",
    "\n",
    "import numpy as np\n",
    "from scipy.integrate import solve_ivp\n",
    "import matplotlib\n",
    "import matplotlib.pyplot as plt\n",
    "matplotlib.rc('font', size=12)\n",
    "import seaborn as sns\n",
    "\n",
    "from ipywidgets import interact, interactive, fixed, interact_manual\n",
    "import ipywidgets as widgets\n",
    "\n",
    "%matplotlib inline"
   ]
  },
  {
   "cell_type": "markdown",
   "metadata": {},
   "source": [
    "Definisco innanzitutto le costanti del problema"
   ]
  },
  {
   "cell_type": "code",
   "execution_count": null,
   "metadata": {},
   "outputs": [],
   "source": [
    "R = 1e3        # [Ohm]\n",
    "C = 1e-6       # [F]\n",
    "E = 1          # [V]\n",
    "phi = 0        # [1]\n",
    "# la condizione iniziale\n",
    "vout0 = [0]     # [V]\n",
    "print('La costante di tempo del circuito è tau = {} ms.'.format(R*C*1e3))"
   ]
  },
  {
   "cell_type": "code",
   "execution_count": null,
   "metadata": {},
   "outputs": [],
   "source": [
    "def compute_analytical_solution(w, E, R, C, phi, v0, t_span):\n",
    "    t = np.linspace(t_span[0], t_span[1], 10000)\n",
    "    # lo sfasamento tra le due sinusoidi\n",
    "    theta = np.arctan(-w*R*C)\n",
    "    # la costante K della soluzione\n",
    "    K = v0 - E / np.sqrt(1 + (w*R*C)**2) * np.cos(phi + theta)\n",
    "    # l'ingresso v_in(t)\n",
    "    vin = E * np.cos(w*t + phi)\n",
    "    # l'espressione di v_out(t)\n",
    "    vout = K * np.exp(-t/(R*C)) + E / np.sqrt(1 + (w*R*C)**2) * np.cos(w*t + phi + theta)\n",
    "    return t,vin,vout"
   ]
  },
  {
   "cell_type": "markdown",
   "metadata": {},
   "source": [
    "#### Definisco una funzione che calcola v_out data la frequenza $f$ della sinusoide in ingresso"
   ]
  },
  {
   "cell_type": "code",
   "execution_count": null,
   "metadata": {},
   "outputs": [],
   "source": [
    "@interact(log_f=(np.log(1), np.log(2000)))\n",
    "def plot_analytical_solution(log_f):\n",
    "    ### Definizioni iniziali\n",
    "    f = np.exp(log_f)\n",
    "    # pulsazione di oscillazione\n",
    "    w = 2*np.pi*f  # [rad/s]\n",
    "    # estremi di integrazione: calcolo la soluzione su 10 periodi della sinusoide di ingresso\n",
    "    t_span = np.array([0,10/f])\n",
    "    \n",
    "    ### Calcolo la soluzione esatta dell'equazione di stato\n",
    "    t,vin,vout = compute_analytical_solution(w, E, R, C, phi, vout0[0], t_span)\n",
    "    \n",
    "    ### Visualizzo i risultati\n",
    "    fig,ax = plt.subplots(1, 1, figsize=(6,4))\n",
    "    if t_span[1] > 0.5:\n",
    "        coeff = 1\n",
    "        unit = 's'\n",
    "    else:\n",
    "        coeff = 1e3\n",
    "        unit = 'ms'\n",
    "    ax.plot(t*coeff, vin, color=[.6,.6,.6], lw=3, label=r'$v_{in}(t)$')\n",
    "    ax.plot(t*coeff, vout, color=[1, 0, .5], lw=2, label=r'$v_{out}(t)$')\n",
    "    ax.plot(t_span*coeff, E/np.sqrt(1+(w*R*C)**2)+np.zeros(2), '--', \\\n",
    "            color=[0,.8,0], lw=1, label=r'$\\frac{E}{\\sqrt{1+(\\omega R C)^2}}$')\n",
    "    ax.plot(t_span*coeff, -E/np.sqrt(1+(w*R*C)**2)+np.zeros(2), '--', \\\n",
    "            color=[0,.8,0], lw=1)\n",
    "    ax.legend(loc='upper right', fontsize=18)\n",
    "    ax.set_xlabel(f'Time ({unit})', fontsize=14)\n",
    "    ax.set_ylabel('Voltage (V)', fontsize=14)\n",
    "    ax.set_title(f'F = {f:g} Hz')\n",
    "    yticks = np.linspace(-1,1,5)\n",
    "    ax.set_yticks(yticks)\n",
    "    sns.despine()\n",
    "    fig.tight_layout()"
   ]
  },
  {
   "cell_type": "markdown",
   "metadata": {},
   "source": [
    "Fissiamo ora $f=100\\ Hz$ e integriamo il sistema usando una funzione per la soluzione numerica di sistemi di equazioni differenziali del primo ordine"
   ]
  },
  {
   "cell_type": "code",
   "execution_count": null,
   "metadata": {},
   "outputs": [],
   "source": [
    "# definisce la rhs dell'equazione di stato\n",
    "def odefun(t, vout, R, C, E, f, phi):\n",
    "    return (-vout + E * np.cos(2*np.pi*f*t + phi)) / (R*C)\n",
    "\n",
    "# frequenza di oscillazione\n",
    "f = 100 # [Hz]\n",
    "w = 2 * np.pi * f\n",
    "# condizione iniziale\n",
    "vout0 = [0]\n",
    "# estremi di integrazione\n",
    "t_span = [0,10/f]\n",
    "\n",
    "# tolleranze per l'integrazione\n",
    "atol = 1e-10\n",
    "rtol = 1e-8\n",
    "\n",
    "t,vin,vout = compute_analytical_solution(w, E, R, C, phi, vout0[0], t_span)\n",
    "\n",
    "# integro numericamente l'equazione di stato\n",
    "sol = solve_ivp(lambda t,x: odefun(t,x,R,C,E,f,phi), t_span, vout0, \\\n",
    "                method='BDF', atol=atol, rtol=rtol)"
   ]
  },
  {
   "cell_type": "markdown",
   "metadata": {},
   "source": [
    "Verifichiamo che la soluzione numerica sia uguale a quella analitica"
   ]
  },
  {
   "cell_type": "code",
   "execution_count": null,
   "metadata": {},
   "outputs": [],
   "source": [
    "fig,ax = plt.subplots(1, 1, figsize=(6,4))\n",
    "ax.plot(sol['t'], sol['y'][0], color=[.6,.6,.6], lw=3, label=r'$v_{out}(t)$ numerica')\n",
    "ax.plot(t, vout, '--', color=[1, 0, .5], lw=2, label=r'$v_{out}(t)$ analitica')\n",
    "ax.legend(loc='lower right', fontsize=14)\n",
    "ax.set_xlabel('Time (s)', fontsize=14)\n",
    "ax.set_ylabel('Voltage (V)', fontsize=14)\n",
    "yticks = np.linspace(-1,1,5)\n",
    "ax.set_yticks(yticks)\n",
    "sns.despine()\n",
    "fig.tight_layout()"
   ]
  },
  {
   "cell_type": "markdown",
   "metadata": {},
   "source": [
    "Vediamo ora come variano l'attenuazione e lo sfasamento di $v_{out}(t)$ al variare della frequenza $f$ di $v_{in}(t)$"
   ]
  },
  {
   "cell_type": "code",
   "execution_count": null,
   "metadata": {},
   "outputs": [],
   "source": [
    "# frequenze da 10^0 a 10^5 equispaziate logaritmicamente\n",
    "f = np.logspace(0, 5, 100)\n",
    "# le corrispondenti pulsazione\n",
    "w = 2*np.pi*f\n",
    "# l'ampiezza della risposta forzata\n",
    "amplitude = E / np.sqrt(1 + (w*R*C)**2)\n",
    "# lo sfasamento\n",
    "theta = np.arctan(-w*R*C)\n",
    "# visualizzo i risultati\n",
    "fig,(ax1,ax2) = plt.subplots(1, 2, figsize=(8,3))\n",
    "ax1.semilogx(f, amplitude, 'k', lw=2)\n",
    "ax1.plot(E/(R*C)+np.zeros(2), [0,1], 'r--', lw=2, label=r'1/$\\tau$')\n",
    "ax1.legend(loc='lower left')\n",
    "ax1.set_xlabel('Frequency (Hz)')\n",
    "ax1.set_ylabel(r'Max ( $v_{out}(t)$ ) ')\n",
    "ax2.semilogx(f, np.rad2deg(theta), 'k', lw=2)\n",
    "ax2.plot(E/(R*C)+np.zeros(2), [-90,0], 'r--', lw=2, label=r'1/$\\tau$')\n",
    "ax2.legend(loc='lower left')\n",
    "ax2.set_xlabel('Frequency (Hz)')\n",
    "ax2.set_ylabel(r'$\\theta$')\n",
    "sns.despine()\n",
    "fig.tight_layout()"
   ]
  }
 ],
 "metadata": {
  "kernelspec": {
   "display_name": "Python 3 (ipykernel)",
   "language": "python",
   "name": "python3"
  },
  "language_info": {
   "codemirror_mode": {
    "name": "ipython",
    "version": 3
   },
   "file_extension": ".py",
   "mimetype": "text/x-python",
   "name": "python",
   "nbconvert_exporter": "python",
   "pygments_lexer": "ipython3",
   "version": "3.10.8"
  }
 },
 "nbformat": 4,
 "nbformat_minor": 2
}
